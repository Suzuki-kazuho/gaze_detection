{
 "cells": [
  {
   "cell_type": "markdown",
   "id": "f80bed4f",
   "metadata": {},
   "source": [
    "# timmを使用した転移学習モデル"
   ]
  },
  {
   "cell_type": "markdown",
   "id": "3917a633",
   "metadata": {},
   "source": [
    "### 参考URL→ https://zenn.dev/piment/articles/4ff3b6dfd73103"
   ]
  },
  {
   "cell_type": "code",
   "execution_count": 295,
   "id": "6c73a333",
   "metadata": {},
   "outputs": [],
   "source": [
    "import timm\n",
    "import torch\n",
    "from torchvision import transforms\n",
    "from torch.utils.data import Dataset\n",
    "import torch.nn as nn\n",
    "import os\n",
    "import matplotlib.pyplot as plt"
   ]
  },
  {
   "cell_type": "code",
   "execution_count": 296,
   "id": "5b1ad953",
   "metadata": {},
   "outputs": [],
   "source": [
    "# timm.list_models(pretrained=True)"
   ]
  },
  {
   "cell_type": "code",
   "execution_count": 297,
   "id": "12f54809",
   "metadata": {},
   "outputs": [],
   "source": [
    "#in_chans=1でグレイスケール\n",
    "model = timm.create_model('resnet18d',pretrained=True,num_classes = 2, in_chans = 1)\n",
    "# model = timm.create_model('resnet18d', pretrained=True, num_classes = 2)"
   ]
  },
  {
   "cell_type": "code",
   "execution_count": 298,
   "id": "cd5d5696",
   "metadata": {},
   "outputs": [
    {
     "name": "stdout",
     "output_type": "stream",
     "text": [
      "except last layer: Linear(in_features=512, out_features=2, bias=True)\n"
     ]
    }
   ],
   "source": [
    "# freeze layers except last layer\n",
    "for param in model.parameters():\n",
    "    param.requires_grad = False\n",
    "\n",
    "last_layer = list(model.children())[-1]\n",
    "print(f'except last layer: {last_layer}')\n",
    "for param in last_layer.parameters():\n",
    "    param.requires_grad = True"
   ]
  },
  {
   "cell_type": "code",
   "execution_count": 299,
   "id": "bc695b96",
   "metadata": {},
   "outputs": [],
   "source": [
    "# print(model)"
   ]
  },
  {
   "cell_type": "code",
   "execution_count": null,
   "id": "d4e2f44a",
   "metadata": {},
   "outputs": [],
   "source": []
  },
  {
   "cell_type": "code",
   "execution_count": 300,
   "id": "bd4b1fdb",
   "metadata": {},
   "outputs": [],
   "source": [
    "#追加する層\n",
    "net_seq=nn.Sequential(\n",
    "    nn.Conv2d(512, 512, kernel_size=(3, 3), stride=(2, 2), padding=(1, 1), bias=True),\n",
    "    nn.BatchNorm2d(512, eps=1e-05, momentum=0.1, affine=True, track_running_stats=True),\n",
    "    nn.ReLU(inplace=True),\n",
    "    nn.Conv2d(512, 512, kernel_size=(3, 3), stride=(1, 1), padding=(1, 1), bias=True),\n",
    "    nn.BatchNorm2d(512, eps=1e-05, momentum=0.1, affine=True, track_running_stats=True),\n",
    "    nn.ReLU(inplace=True)\n",
    ")"
   ]
  },
  {
   "cell_type": "code",
   "execution_count": 301,
   "id": "4cb2e410",
   "metadata": {},
   "outputs": [
    {
     "data": {
      "text/plain": [
       "Sequential(\n",
       "  (0): Conv2d(512, 512, kernel_size=(3, 3), stride=(2, 2), padding=(1, 1))\n",
       "  (1): BatchNorm2d(512, eps=1e-05, momentum=0.1, affine=True, track_running_stats=True)\n",
       "  (2): ReLU(inplace=True)\n",
       "  (3): Conv2d(512, 512, kernel_size=(3, 3), stride=(1, 1), padding=(1, 1))\n",
       "  (4): BatchNorm2d(512, eps=1e-05, momentum=0.1, affine=True, track_running_stats=True)\n",
       "  (5): ReLU(inplace=True)\n",
       ")"
      ]
     },
     "execution_count": 301,
     "metadata": {},
     "output_type": "execute_result"
    }
   ],
   "source": [
    "net_seq"
   ]
  },
  {
   "cell_type": "code",
   "execution_count": 302,
   "id": "42ed583e",
   "metadata": {},
   "outputs": [],
   "source": [
    "#層を追加\n",
    "# model.add_module('layer5', nn.Identity())\n",
    "# model.layer5 = nn.Sequential(net_seq, model.layer5)\n",
    "model.layer4.add_module('add_layer', net_seq)\n",
    "# model.layer4 = nn.Sequential(net_seq, model.layer4)"
   ]
  },
  {
   "cell_type": "code",
   "execution_count": 303,
   "id": "bc64d273",
   "metadata": {},
   "outputs": [
    {
     "data": {
      "text/plain": [
       "ResNet(\n",
       "  (conv1): Sequential(\n",
       "    (0): Conv2d(1, 32, kernel_size=(3, 3), stride=(2, 2), padding=(1, 1), bias=False)\n",
       "    (1): BatchNorm2d(32, eps=1e-05, momentum=0.1, affine=True, track_running_stats=True)\n",
       "    (2): ReLU(inplace=True)\n",
       "    (3): Conv2d(32, 32, kernel_size=(3, 3), stride=(1, 1), padding=(1, 1), bias=False)\n",
       "    (4): BatchNorm2d(32, eps=1e-05, momentum=0.1, affine=True, track_running_stats=True)\n",
       "    (5): ReLU(inplace=True)\n",
       "    (6): Conv2d(32, 64, kernel_size=(3, 3), stride=(1, 1), padding=(1, 1), bias=False)\n",
       "  )\n",
       "  (bn1): BatchNorm2d(64, eps=1e-05, momentum=0.1, affine=True, track_running_stats=True)\n",
       "  (act1): ReLU(inplace=True)\n",
       "  (maxpool): MaxPool2d(kernel_size=3, stride=2, padding=1, dilation=1, ceil_mode=False)\n",
       "  (layer1): Sequential(\n",
       "    (0): BasicBlock(\n",
       "      (conv1): Conv2d(64, 64, kernel_size=(3, 3), stride=(1, 1), padding=(1, 1), bias=False)\n",
       "      (bn1): BatchNorm2d(64, eps=1e-05, momentum=0.1, affine=True, track_running_stats=True)\n",
       "      (drop_block): Identity()\n",
       "      (act1): ReLU(inplace=True)\n",
       "      (aa): Identity()\n",
       "      (conv2): Conv2d(64, 64, kernel_size=(3, 3), stride=(1, 1), padding=(1, 1), bias=False)\n",
       "      (bn2): BatchNorm2d(64, eps=1e-05, momentum=0.1, affine=True, track_running_stats=True)\n",
       "      (act2): ReLU(inplace=True)\n",
       "    )\n",
       "    (1): BasicBlock(\n",
       "      (conv1): Conv2d(64, 64, kernel_size=(3, 3), stride=(1, 1), padding=(1, 1), bias=False)\n",
       "      (bn1): BatchNorm2d(64, eps=1e-05, momentum=0.1, affine=True, track_running_stats=True)\n",
       "      (drop_block): Identity()\n",
       "      (act1): ReLU(inplace=True)\n",
       "      (aa): Identity()\n",
       "      (conv2): Conv2d(64, 64, kernel_size=(3, 3), stride=(1, 1), padding=(1, 1), bias=False)\n",
       "      (bn2): BatchNorm2d(64, eps=1e-05, momentum=0.1, affine=True, track_running_stats=True)\n",
       "      (act2): ReLU(inplace=True)\n",
       "    )\n",
       "  )\n",
       "  (layer2): Sequential(\n",
       "    (0): BasicBlock(\n",
       "      (conv1): Conv2d(64, 128, kernel_size=(3, 3), stride=(2, 2), padding=(1, 1), bias=False)\n",
       "      (bn1): BatchNorm2d(128, eps=1e-05, momentum=0.1, affine=True, track_running_stats=True)\n",
       "      (drop_block): Identity()\n",
       "      (act1): ReLU(inplace=True)\n",
       "      (aa): Identity()\n",
       "      (conv2): Conv2d(128, 128, kernel_size=(3, 3), stride=(1, 1), padding=(1, 1), bias=False)\n",
       "      (bn2): BatchNorm2d(128, eps=1e-05, momentum=0.1, affine=True, track_running_stats=True)\n",
       "      (act2): ReLU(inplace=True)\n",
       "      (downsample): Sequential(\n",
       "        (0): AvgPool2d(kernel_size=2, stride=2, padding=0)\n",
       "        (1): Conv2d(64, 128, kernel_size=(1, 1), stride=(1, 1), bias=False)\n",
       "        (2): BatchNorm2d(128, eps=1e-05, momentum=0.1, affine=True, track_running_stats=True)\n",
       "      )\n",
       "    )\n",
       "    (1): BasicBlock(\n",
       "      (conv1): Conv2d(128, 128, kernel_size=(3, 3), stride=(1, 1), padding=(1, 1), bias=False)\n",
       "      (bn1): BatchNorm2d(128, eps=1e-05, momentum=0.1, affine=True, track_running_stats=True)\n",
       "      (drop_block): Identity()\n",
       "      (act1): ReLU(inplace=True)\n",
       "      (aa): Identity()\n",
       "      (conv2): Conv2d(128, 128, kernel_size=(3, 3), stride=(1, 1), padding=(1, 1), bias=False)\n",
       "      (bn2): BatchNorm2d(128, eps=1e-05, momentum=0.1, affine=True, track_running_stats=True)\n",
       "      (act2): ReLU(inplace=True)\n",
       "    )\n",
       "  )\n",
       "  (layer3): Sequential(\n",
       "    (0): BasicBlock(\n",
       "      (conv1): Conv2d(128, 256, kernel_size=(3, 3), stride=(2, 2), padding=(1, 1), bias=False)\n",
       "      (bn1): BatchNorm2d(256, eps=1e-05, momentum=0.1, affine=True, track_running_stats=True)\n",
       "      (drop_block): Identity()\n",
       "      (act1): ReLU(inplace=True)\n",
       "      (aa): Identity()\n",
       "      (conv2): Conv2d(256, 256, kernel_size=(3, 3), stride=(1, 1), padding=(1, 1), bias=False)\n",
       "      (bn2): BatchNorm2d(256, eps=1e-05, momentum=0.1, affine=True, track_running_stats=True)\n",
       "      (act2): ReLU(inplace=True)\n",
       "      (downsample): Sequential(\n",
       "        (0): AvgPool2d(kernel_size=2, stride=2, padding=0)\n",
       "        (1): Conv2d(128, 256, kernel_size=(1, 1), stride=(1, 1), bias=False)\n",
       "        (2): BatchNorm2d(256, eps=1e-05, momentum=0.1, affine=True, track_running_stats=True)\n",
       "      )\n",
       "    )\n",
       "    (1): BasicBlock(\n",
       "      (conv1): Conv2d(256, 256, kernel_size=(3, 3), stride=(1, 1), padding=(1, 1), bias=False)\n",
       "      (bn1): BatchNorm2d(256, eps=1e-05, momentum=0.1, affine=True, track_running_stats=True)\n",
       "      (drop_block): Identity()\n",
       "      (act1): ReLU(inplace=True)\n",
       "      (aa): Identity()\n",
       "      (conv2): Conv2d(256, 256, kernel_size=(3, 3), stride=(1, 1), padding=(1, 1), bias=False)\n",
       "      (bn2): BatchNorm2d(256, eps=1e-05, momentum=0.1, affine=True, track_running_stats=True)\n",
       "      (act2): ReLU(inplace=True)\n",
       "    )\n",
       "  )\n",
       "  (layer4): Sequential(\n",
       "    (0): BasicBlock(\n",
       "      (conv1): Conv2d(256, 512, kernel_size=(3, 3), stride=(2, 2), padding=(1, 1), bias=False)\n",
       "      (bn1): BatchNorm2d(512, eps=1e-05, momentum=0.1, affine=True, track_running_stats=True)\n",
       "      (drop_block): Identity()\n",
       "      (act1): ReLU(inplace=True)\n",
       "      (aa): Identity()\n",
       "      (conv2): Conv2d(512, 512, kernel_size=(3, 3), stride=(1, 1), padding=(1, 1), bias=False)\n",
       "      (bn2): BatchNorm2d(512, eps=1e-05, momentum=0.1, affine=True, track_running_stats=True)\n",
       "      (act2): ReLU(inplace=True)\n",
       "      (downsample): Sequential(\n",
       "        (0): AvgPool2d(kernel_size=2, stride=2, padding=0)\n",
       "        (1): Conv2d(256, 512, kernel_size=(1, 1), stride=(1, 1), bias=False)\n",
       "        (2): BatchNorm2d(512, eps=1e-05, momentum=0.1, affine=True, track_running_stats=True)\n",
       "      )\n",
       "    )\n",
       "    (1): BasicBlock(\n",
       "      (conv1): Conv2d(512, 512, kernel_size=(3, 3), stride=(1, 1), padding=(1, 1), bias=False)\n",
       "      (bn1): BatchNorm2d(512, eps=1e-05, momentum=0.1, affine=True, track_running_stats=True)\n",
       "      (drop_block): Identity()\n",
       "      (act1): ReLU(inplace=True)\n",
       "      (aa): Identity()\n",
       "      (conv2): Conv2d(512, 512, kernel_size=(3, 3), stride=(1, 1), padding=(1, 1), bias=False)\n",
       "      (bn2): BatchNorm2d(512, eps=1e-05, momentum=0.1, affine=True, track_running_stats=True)\n",
       "      (act2): ReLU(inplace=True)\n",
       "    )\n",
       "    (add_layer): Sequential(\n",
       "      (0): Conv2d(512, 512, kernel_size=(3, 3), stride=(2, 2), padding=(1, 1))\n",
       "      (1): BatchNorm2d(512, eps=1e-05, momentum=0.1, affine=True, track_running_stats=True)\n",
       "      (2): ReLU(inplace=True)\n",
       "      (3): Conv2d(512, 512, kernel_size=(3, 3), stride=(1, 1), padding=(1, 1))\n",
       "      (4): BatchNorm2d(512, eps=1e-05, momentum=0.1, affine=True, track_running_stats=True)\n",
       "      (5): ReLU(inplace=True)\n",
       "    )\n",
       "  )\n",
       "  (global_pool): SelectAdaptivePool2d (pool_type=avg, flatten=Flatten(start_dim=1, end_dim=-1))\n",
       "  (fc): Linear(in_features=512, out_features=2, bias=True)\n",
       ")"
      ]
     },
     "execution_count": 303,
     "metadata": {},
     "output_type": "execute_result"
    }
   ],
   "source": [
    "model"
   ]
  },
  {
   "cell_type": "markdown",
   "id": "a0a6b3cf",
   "metadata": {},
   "source": [
    "# 学習させる画像 https://cgpipeliner.info/2022/04/29/cnn-datalorder/#st-toc-h-3"
   ]
  },
  {
   "cell_type": "code",
   "execution_count": 304,
   "id": "a178c0b5",
   "metadata": {},
   "outputs": [
    {
     "name": "stdout",
     "output_type": "stream",
     "text": [
      "nmirror\n",
      "mirror\n"
     ]
    }
   ],
   "source": [
    "for i in os.listdir('cut_roundeye/'):\n",
    "    print(i)"
   ]
  },
  {
   "cell_type": "markdown",
   "id": "2621f4cd",
   "metadata": {},
   "source": [
    "# trainデータを作成した後、7割をtrain, 3割をvalに分けてDataLoaderとする"
   ]
  },
  {
   "cell_type": "code",
   "execution_count": 305,
   "id": "81d29a41",
   "metadata": {},
   "outputs": [],
   "source": [
    "# import torch\n",
    "# import torchvision.transforms as transforms\n",
    "from torchvision import datasets\n",
    "from torch.utils.data import DataLoader\n",
    "# import pytorch_lightning as pl\n",
    "\n",
    "#シード値の固定\n",
    "# pl.seed_everything(0)\n",
    "\n",
    "# 学習データのパス\n",
    "data_path = 'new_TrainDataset'\n",
    "\n",
    "# バッチサイズ\n",
    "batch_size = 256\n",
    "\n",
    "# オーグメンテーション\n",
    "transform = transforms.Compose([\n",
    "    transforms.Grayscale(num_output_channels=1),\n",
    "    transforms.Resize((64, 64)),\n",
    "    transforms.RandomHorizontalFlip(),\n",
    "    transforms.ToTensor(),\n",
    "    transforms.Normalize((0.5, ), (0.5, ))\n",
    "#     \"\"\"Convert a color image to grayscale and normalize the color range to [0,1].\"\"\"\n",
    "])\n",
    "\n",
    "# データセットの作成\n",
    "dataset = datasets.ImageFolder(data_path, transform)\n",
    "\n",
    "\n",
    "# 学習データに使用する割合\n",
    "n_train_ratio = 70\n",
    "\n",
    "# 割合から個数を出す\n",
    "n_train = int(len(dataset) * n_train_ratio / 100)\n",
    "n_val   = int(len(dataset) - n_train)\n",
    "\n",
    "\n",
    "# 学習データと検証データに分割\n",
    "train, val = torch.utils.data.random_split(dataset, [n_train, n_val])\n",
    "\n",
    "# \n",
    "# Data Loader\n",
    "train_loader = torch.utils.data.DataLoader(train, batch_size, shuffle=True, drop_last=True)\n",
    "val_loader = torch.utils.data.DataLoader(val, batch_size)"
   ]
  },
  {
   "cell_type": "code",
   "execution_count": 306,
   "id": "d9429e3f",
   "metadata": {},
   "outputs": [
    {
     "name": "stdout",
     "output_type": "stream",
     "text": [
      "データローダのタイプ <class 'torch.utils.data.dataloader.DataLoader'>\n",
      "全体のデータ量 :  22769\n",
      "イテレーション :  62\n"
     ]
    }
   ],
   "source": [
    "print('データローダのタイプ', type(train_loader))\n",
    "print('全体のデータ量 : ',len(dataset))\n",
    "print('イテレーション : ', len(train_loader))"
   ]
  },
  {
   "cell_type": "markdown",
   "id": "b3acfc4d",
   "metadata": {},
   "source": [
    "### 画像とラベルを取り出す"
   ]
  },
  {
   "cell_type": "code",
   "execution_count": 307,
   "id": "c2191344",
   "metadata": {},
   "outputs": [
    {
     "name": "stdout",
     "output_type": "stream",
     "text": [
      "画像の枚数   :  256\n",
      "ラベルの個数 :  256\n",
      "画像        :  torch.Size([1, 64, 64])\n",
      "ラベル      :  tensor(0)\n"
     ]
    }
   ],
   "source": [
    "# データロダからバッチを取り出す\n",
    "image_list, label_list = next(iter(train_loader))\n",
    "\n",
    "print('画像の枚数   : ', len(image_list))\n",
    "print('ラベルの個数 : ', len(label_list))\n",
    "print('画像        : ', image_list[0].shape)\n",
    "print('ラベル      : ', label_list[0])"
   ]
  },
  {
   "cell_type": "markdown",
   "id": "45933bd3",
   "metadata": {},
   "source": [
    "# 学習　参考→ https://htomblog.com/pthon-timm"
   ]
  },
  {
   "cell_type": "code",
   "execution_count": null,
   "id": "4972f1ed",
   "metadata": {},
   "outputs": [
    {
     "name": "stderr",
     "output_type": "stream",
     "text": [
      "  0%|          | 0/62 [00:00<?, ?it/s]"
     ]
    },
    {
     "name": "stdout",
     "output_type": "stream",
     "text": [
      "\n",
      "Epoch: 0\n"
     ]
    },
    {
     "name": "stderr",
     "output_type": "stream",
     "text": [
      "100%|██████████| 62/62 [00:27<00:00,  2.25it/s]\n",
      "100%|██████████| 27/27 [00:10<00:00,  2.59it/s]\n",
      "  0%|          | 0/62 [00:00<?, ?it/s]"
     ]
    },
    {
     "name": "stdout",
     "output_type": "stream",
     "text": [
      "0.21596265043462476\n",
      "0.24824279940698982\n",
      "\n",
      "Epoch: 1\n"
     ]
    },
    {
     "name": "stderr",
     "output_type": "stream",
     "text": [
      "100%|██████████| 62/62 [00:27<00:00,  2.28it/s]\n",
      "100%|██████████| 27/27 [00:09<00:00,  2.73it/s]\n",
      "  0%|          | 0/62 [00:00<?, ?it/s]"
     ]
    },
    {
     "name": "stdout",
     "output_type": "stream",
     "text": [
      "0.05362567464790998\n",
      "0.0495861063453258\n",
      "\n",
      "Epoch: 2\n"
     ]
    },
    {
     "name": "stderr",
     "output_type": "stream",
     "text": [
      "100%|██████████| 62/62 [00:26<00:00,  2.36it/s]\n",
      "100%|██████████| 27/27 [00:10<00:00,  2.69it/s]\n",
      "  0%|          | 0/62 [00:00<?, ?it/s]"
     ]
    },
    {
     "name": "stdout",
     "output_type": "stream",
     "text": [
      "0.03584822480596842\n",
      "0.03842073697607695\n",
      "\n",
      "Epoch: 3\n"
     ]
    },
    {
     "name": "stderr",
     "output_type": "stream",
     "text": [
      "100%|██████████| 62/62 [00:26<00:00,  2.32it/s]\n",
      "100%|██████████| 27/27 [00:10<00:00,  2.66it/s]\n",
      "  0%|          | 0/62 [00:00<?, ?it/s]"
     ]
    },
    {
     "name": "stdout",
     "output_type": "stream",
     "text": [
      "0.021792186679498803\n",
      "0.03170178716618073\n",
      "\n",
      "Epoch: 4\n"
     ]
    },
    {
     "name": "stderr",
     "output_type": "stream",
     "text": [
      "100%|██████████| 62/62 [00:27<00:00,  2.29it/s]\n",
      "100%|██████████| 27/27 [00:10<00:00,  2.70it/s]\n",
      "  0%|          | 0/62 [00:00<?, ?it/s]"
     ]
    },
    {
     "name": "stdout",
     "output_type": "stream",
     "text": [
      "0.016262061908961303\n",
      "0.03383848189834798\n",
      "\n",
      "Epoch: 5\n"
     ]
    },
    {
     "name": "stderr",
     "output_type": "stream",
     "text": [
      "100%|██████████| 62/62 [00:27<00:00,  2.26it/s]\n",
      "100%|██████████| 27/27 [00:09<00:00,  2.73it/s]\n",
      "  0%|          | 0/62 [00:00<?, ?it/s]"
     ]
    },
    {
     "name": "stdout",
     "output_type": "stream",
     "text": [
      "0.0125836075148395\n",
      "0.02782339860571055\n",
      "\n",
      "Epoch: 6\n"
     ]
    },
    {
     "name": "stderr",
     "output_type": "stream",
     "text": [
      "100%|██████████| 62/62 [00:26<00:00,  2.34it/s]\n",
      "100%|██████████| 27/27 [00:09<00:00,  2.74it/s]\n",
      "  0%|          | 0/62 [00:00<?, ?it/s]"
     ]
    },
    {
     "name": "stdout",
     "output_type": "stream",
     "text": [
      "0.008833359757949027\n",
      "0.02622386720263274\n",
      "\n",
      "Epoch: 7\n"
     ]
    },
    {
     "name": "stderr",
     "output_type": "stream",
     "text": [
      "100%|██████████| 62/62 [00:26<00:00,  2.31it/s]\n",
      " 52%|█████▏    | 14/27 [00:05<00:04,  2.68it/s]"
     ]
    }
   ],
   "source": [
    "from timm.utils import AverageMeter\n",
    "from tqdm import tqdm\n",
    "\n",
    "# 最適化手法\n",
    "optimizer = torch.optim.Adam(model.parameters(), lr = 1e-4)\n",
    "\n",
    "# 損失関数\n",
    "criterion = torch.nn.CrossEntropyLoss()\n",
    "\n",
    "# ログ記録用の変数\n",
    "history = {\"train\": [], \"test\": []}\n",
    "\n",
    "# 学習回数\n",
    "for epoch in range(50):\n",
    "    print(\"\\nEpoch:\", epoch)\n",
    "\n",
    "    # 学習\n",
    "    model.train()\n",
    "    train_loss = AverageMeter()\n",
    "    for batch in tqdm(train_loader):\n",
    "        optimizer.zero_grad()\n",
    "        image = batch[0] #(batch_size, channel, size, size)\n",
    "        label = batch[1] #(batch_size)\n",
    "#         preds = model(image) #(batch_size, num_class)\n",
    "        preds = model(image)\n",
    "        loss = criterion(preds, label)\n",
    "        loss.backward()\n",
    "        optimizer.step()\n",
    "        train_loss.update(val = loss.item(), n = len(image))\n",
    "\n",
    "    # 検証\n",
    "    model.eval()\n",
    "    test_loss = AverageMeter()\n",
    "    with torch.no_grad():\n",
    "        for batch in tqdm(val_loader):\n",
    "            image = batch[0] #(batch_size, channel, size, size)\n",
    "            label = batch[1] #(batch_size)\n",
    "            preds = model(image) #(batch_size, num_class)\n",
    "            loss = criterion(preds, label)\n",
    "            test_loss.update(val = loss.item(), n = len(image))\n",
    "\n",
    "    # 誤差出力\n",
    "    print(train_loss.avg)\n",
    "    print(test_loss.avg)\n",
    "    history[\"train\"].append(train_loss.avg)\n",
    "    history[\"test\"].append(test_loss.avg)"
   ]
  },
  {
   "cell_type": "code",
   "execution_count": null,
   "id": "1472b37d",
   "metadata": {},
   "outputs": [],
   "source": [
    "plt.plot(history[\"train\"], label = \"train\")\n",
    "plt.plot(history[\"test\"], label = \"test\")\n",
    "plt.legend()\n",
    "plt.show()"
   ]
  },
  {
   "cell_type": "markdown",
   "id": "1b226c1e",
   "metadata": {},
   "source": [
    "# test画像"
   ]
  },
  {
   "cell_type": "code",
   "execution_count": null,
   "id": "d33b6af0",
   "metadata": {},
   "outputs": [],
   "source": [
    "\n",
    "# 学習データのパス\n",
    "test_path = 'new_TestDataset'\n",
    "\n",
    "# バッチサイズ\n",
    "batch_size = 256\n",
    "\n",
    "# オーグメンテーション\n",
    "transform = transforms.Compose([\n",
    "    transforms.Grayscale(num_output_channels=1),\n",
    "    transforms.Resize((64, 64)),\n",
    "    transforms.ToTensor()\n",
    "])\n",
    "\n",
    "# データセットの作成\n",
    "test_dataset = datasets.ImageFolder(test_path, transform)\n",
    "\n",
    "# Data Loader\n",
    "test_loader = torch.utils.data.DataLoader(test_dataset, batch_size)"
   ]
  },
  {
   "cell_type": "code",
   "execution_count": null,
   "id": "a020922e",
   "metadata": {},
   "outputs": [],
   "source": []
  },
  {
   "cell_type": "code",
   "execution_count": null,
   "id": "4f41a140",
   "metadata": {},
   "outputs": [],
   "source": [
    "# plt.figure()\n",
    "# plt.subplot(1, 2, 1)\n",
    "# plt.imshow(data_path[0][0].permute(1, 2, 0))\n",
    "# plt.title(train_loader[1][1])\n",
    "# plt.subplot(1, 2, 2)\n",
    "# plt.imshow(test_loader[0][0].permute(1, 2, 0))\n",
    "# plt.title(test_loader[1][1])\n",
    "# plt.show()"
   ]
  },
  {
   "cell_type": "code",
   "execution_count": null,
   "id": "893c9873",
   "metadata": {},
   "outputs": [],
   "source": [
    "import mediapipe\n",
    "\n",
    "model.eval()\n",
    "preds = []\n",
    "labels = []\n",
    "\n",
    "mp_drawing = mediapipe.solutions.drawing_utils\n",
    "mp_drawing_styles = mediapipe.solutions.drawing_styles\n",
    "mp_face_mesh = mediapipe.solutions.face_mesh\n",
    "\n",
    "with torch.no_grad():\n",
    "    for batch in tqdm(test_loader):\n",
    "        image = batch[0]\n",
    "        label = batch[1]\n",
    "        \n",
    "#         #Augmentationした画像データを読み込む\n",
    "#         tmp = iter(batch)\n",
    "#         images,labels = next(tmp)\n",
    "\n",
    "#         #画像をtensorからnumpyに変換\n",
    "#         images = images.numpy()\n",
    "\n",
    "#         with mp_face_mesh.FaceMesh(max_num_faces=1,refine_landmarks=True,min_detection_confidence=0.7,min_tracking_confidence=0.7) as face_mesh:\n",
    "#             results = face_mesh.process(images)\n",
    "#             if results.multi_face_landmarks:\n",
    "#                 for face_landmarks in results.multi_face_landmarks:\n",
    "#                     #Face_Mesh\n",
    "\n",
    "#                     for number, lm in enumerate(face_landmarks.landmark):\n",
    "#                         #image_coo: 付け足す座標\n",
    "#                         img_coo = [0.0] * 64\n",
    "#                         ih, iw, ic = image.shape\n",
    "#                         x, y  = int(lm.x*iw), int(lm.y*ih)\n",
    "#                         z = lm.z\n",
    "#                         #0, 4, 5, 6, 468, 469, 470, 471, 472, 473, 474, 475, 476, 477の座標取得、6の時は目の周りの切り取りも行う\n",
    "\n",
    "#                         if number == 0:\n",
    "#                             counter = 0\n",
    "#                             img_coo[0] = z\n",
    "#                         elif number == 4:\n",
    "#                             img_coo[1] = z\n",
    "#                         elif number == 5:\n",
    "#                             img_coo[2] = z\n",
    "#                         elif number == 6:\n",
    "#                             x1 = x - 120\n",
    "#                             x2 = x + 120\n",
    "#                             y1 = y - 50\n",
    "#                             y2 = y + 20\n",
    "\n",
    "#                             img_coo[3] = z\n",
    "\n",
    "#                             image_cut = image[y1 : y2, x1: x2]\n",
    "\n",
    "# #                         elif number >= 468 and number < 477:\n",
    "# #                             img_coo[number - 464] = z\n",
    "# #                         elif number == 477:\n",
    "# #                             img_coo[14] = z\n",
    "# #                             counter += 1\n",
    "\n",
    "#                             if image.size == 0:\n",
    "#                                 continue\n",
    "#                             else:\n",
    "#                                 image= cv2.cvtColor(image_cut, cv2.COLOR_BGR2GRAY)\n",
    "\n",
    "\n",
    "\n",
    "\n",
    "        # 最も値の大きい列番号\n",
    "        preds += model(image).numpy().argmax(axis = 1).tolist()\n",
    "#         print(preds)\n",
    "        # 答え\n",
    "        labels += label.numpy().tolist()"
   ]
  },
  {
   "cell_type": "code",
   "execution_count": null,
   "id": "e97c5483",
   "metadata": {},
   "outputs": [],
   "source": [
    "print(preds[:5])\n",
    "print(labels[:5])"
   ]
  },
  {
   "cell_type": "code",
   "execution_count": null,
   "id": "7a5eb8cf",
   "metadata": {},
   "outputs": [],
   "source": [
    "from sklearn.metrics import accuracy_score\n",
    "print(accuracy_score(labels, preds))"
   ]
  },
  {
   "cell_type": "code",
   "execution_count": null,
   "id": "b908f584",
   "metadata": {},
   "outputs": [],
   "source": [
    "# torch.save(model.state_dict(), 'model_resnet50_pre50.pth')\n",
    "# torch.save(model, 'model_resnet50_pre50.pth')\n",
    "torch.save(model.state_dict(), 'model_resnet18d_NoFrop_3_new_TrainDataset.pth')"
   ]
  },
  {
   "cell_type": "code",
   "execution_count": null,
   "id": "915cae76",
   "metadata": {},
   "outputs": [],
   "source": [
    "from sklearn.metrics import confusion_matrix\n",
    "import seaborn as sns\n",
    "cm_pre = confusion_matrix(labels, preds)"
   ]
  },
  {
   "cell_type": "code",
   "execution_count": null,
   "id": "cebe518f",
   "metadata": {},
   "outputs": [],
   "source": [
    "#fmt='d'で数字の指数表記をなくせる\n",
    "sns.heatmap(cm_pre, annot=True, cmap='Blues', fmt='d')\n",
    "plt.ylabel('Tdata')\n",
    "plt.xlabel('predictions')\n",
    "# plt.title(path)"
   ]
  },
  {
   "cell_type": "markdown",
   "id": "6c12a515",
   "metadata": {},
   "source": [
    "# 瀬川さん"
   ]
  },
  {
   "cell_type": "code",
   "execution_count": null,
   "id": "5d3763df",
   "metadata": {},
   "outputs": [],
   "source": [
    "# 学習データのパス\n",
    "test_path = 'class_test_image_cut/segawa/'\n",
    "\n",
    "# バッチサイズ\n",
    "batch_size = 256\n",
    "\n",
    "# オーグメンテーション\n",
    "transform = transforms.Compose([\n",
    "    transforms.Grayscale(num_output_channels=1),\n",
    "    transforms.Resize((64, 64)),\n",
    "    transforms.ToTensor()\n",
    "])\n",
    "\n",
    "# データセットの作成\n",
    "test_dataset = datasets.ImageFolder(test_path, transform)\n",
    "\n",
    "# Data Loader\n",
    "test_loader = torch.utils.data.DataLoader(test_dataset, batch_size)"
   ]
  },
  {
   "cell_type": "code",
   "execution_count": null,
   "id": "607938c2",
   "metadata": {},
   "outputs": [],
   "source": [
    "import mediapipe\n",
    "\n",
    "model.eval()\n",
    "preds = []\n",
    "labels = []\n",
    "\n",
    "mp_drawing = mediapipe.solutions.drawing_utils\n",
    "mp_drawing_styles = mediapipe.solutions.drawing_styles\n",
    "mp_face_mesh = mediapipe.solutions.face_mesh\n",
    "\n",
    "with torch.no_grad():\n",
    "    for batch in tqdm(test_loader):\n",
    "        image = batch[0]\n",
    "        label = batch[1]\n",
    "        \n",
    "\n",
    "        # 最も値の大きい列番号\n",
    "        preds += model(image).numpy().argmax(axis = 1).tolist()\n",
    "#         print(preds)\n",
    "        # 答え\n",
    "        labels += label.numpy().tolist()"
   ]
  },
  {
   "cell_type": "code",
   "execution_count": null,
   "id": "941de946",
   "metadata": {},
   "outputs": [],
   "source": [
    "from sklearn.metrics import accuracy_score\n",
    "print(accuracy_score(labels, preds))"
   ]
  },
  {
   "cell_type": "code",
   "execution_count": null,
   "id": "05420242",
   "metadata": {},
   "outputs": [],
   "source": [
    "from sklearn.metrics import confusion_matrix\n",
    "import seaborn as sns\n",
    "cm_pre = confusion_matrix(labels, preds)"
   ]
  },
  {
   "cell_type": "code",
   "execution_count": null,
   "id": "e9d1e1ff",
   "metadata": {},
   "outputs": [],
   "source": [
    "#fmt='d'で数字の指数表記をなくせる\n",
    "sns.heatmap(cm_pre, annot=True, cmap='Blues', fmt='d')\n",
    "plt.ylabel('Tdata')\n",
    "plt.xlabel('predictions')\n",
    "plt.title(test_path)"
   ]
  },
  {
   "cell_type": "markdown",
   "id": "798cc925",
   "metadata": {},
   "source": [
    "# Mom"
   ]
  },
  {
   "cell_type": "code",
   "execution_count": null,
   "id": "6517e86d",
   "metadata": {},
   "outputs": [],
   "source": [
    "# 学習データのパス\n",
    "test_path = 'class_test_image_cut/mom/'\n",
    "\n",
    "# バッチサイズ\n",
    "batch_size = 256\n",
    "\n",
    "# オーグメンテーション\n",
    "transform = transforms.Compose([\n",
    "    transforms.Grayscale(num_output_channels=1),\n",
    "    transforms.Resize((64, 64)),\n",
    "    transforms.ToTensor()\n",
    "])\n",
    "\n",
    "# データセットの作成\n",
    "test_dataset = datasets.ImageFolder(test_path, transform)\n",
    "\n",
    "# Data Loader\n",
    "test_loader = torch.utils.data.DataLoader(test_dataset, batch_size)"
   ]
  },
  {
   "cell_type": "code",
   "execution_count": null,
   "id": "8a923640",
   "metadata": {},
   "outputs": [],
   "source": [
    "import mediapipe\n",
    "\n",
    "model.eval()\n",
    "preds = []\n",
    "labels = []\n",
    "\n",
    "mp_drawing = mediapipe.solutions.drawing_utils\n",
    "mp_drawing_styles = mediapipe.solutions.drawing_styles\n",
    "mp_face_mesh = mediapipe.solutions.face_mesh\n",
    "\n",
    "with torch.no_grad():\n",
    "    for batch in tqdm(test_loader):\n",
    "        image = batch[0]\n",
    "        label = batch[1]\n",
    "        \n",
    "\n",
    "        # 最も値の大きい列番号\n",
    "        preds += model(image).numpy().argmax(axis = 1).tolist()\n",
    "#         print(preds)\n",
    "        # 答え\n",
    "        labels += label.numpy().tolist()"
   ]
  },
  {
   "cell_type": "code",
   "execution_count": null,
   "id": "7b8ad419",
   "metadata": {},
   "outputs": [],
   "source": [
    "from sklearn.metrics import accuracy_score\n",
    "print(accuracy_score(labels, preds))"
   ]
  },
  {
   "cell_type": "code",
   "execution_count": null,
   "id": "6f949c36",
   "metadata": {},
   "outputs": [],
   "source": [
    "from sklearn.metrics import confusion_matrix\n",
    "import seaborn as sns\n",
    "cm_pre = confusion_matrix(labels, preds)"
   ]
  },
  {
   "cell_type": "code",
   "execution_count": null,
   "id": "5eeaa786",
   "metadata": {},
   "outputs": [],
   "source": [
    "sns.heatmap(cm_pre, annot=True, cmap='Blues', fmt='d')\n",
    "plt.ylabel('Tdata')\n",
    "plt.xlabel('predictions')\n",
    "plt.title(test_path)"
   ]
  },
  {
   "cell_type": "code",
   "execution_count": null,
   "id": "fcbaa63b",
   "metadata": {},
   "outputs": [],
   "source": []
  }
 ],
 "metadata": {
  "kernelspec": {
   "display_name": "Python 3",
   "language": "python",
   "name": "python3"
  },
  "language_info": {
   "codemirror_mode": {
    "name": "ipython",
    "version": 3
   },
   "file_extension": ".py",
   "mimetype": "text/x-python",
   "name": "python",
   "nbconvert_exporter": "python",
   "pygments_lexer": "ipython3",
   "version": "3.8.5"
  }
 },
 "nbformat": 4,
 "nbformat_minor": 5
}
